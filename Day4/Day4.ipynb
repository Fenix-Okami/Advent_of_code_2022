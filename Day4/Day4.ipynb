{
 "cells": [
  {
   "cell_type": "code",
   "execution_count": 2,
   "metadata": {},
   "outputs": [],
   "source": [
    "with open('puzzleinput.txt') as file:\n",
    "    data=[line.rstrip() for line in file]"
   ]
  },
  {
   "cell_type": "code",
   "execution_count": 29,
   "metadata": {},
   "outputs": [
    {
     "name": "stdout",
     "output_type": "stream",
     "text": [
      "509\n"
     ]
    }
   ],
   "source": [
    "import re\n",
    "reconsider=0\n",
    "\n",
    "for pair in data:\n",
    "    strings=re.findall(r'\\d+', pair)\n",
    "    zones=list(map(int,strings))\n",
    "    if (zones[0]<=zones[2] and zones[1]>=zones[3]) or (zones[0]>=zones[2] and zones[1]<=zones[3]):\n",
    "        reconsider+=1\n",
    "\n",
    "print(reconsider)"
   ]
  },
  {
   "cell_type": "code",
   "execution_count": null,
   "metadata": {},
   "outputs": [],
   "source": [
    "## 509 was the right answer!"
   ]
  },
  {
   "cell_type": "code",
   "execution_count": 32,
   "metadata": {},
   "outputs": [
    {
     "name": "stdout",
     "output_type": "stream",
     "text": [
      "870\n"
     ]
    }
   ],
   "source": [
    "import re\n",
    "reconsider=0\n",
    "\n",
    "for pair in data:\n",
    "    strings=re.findall(r'\\d+', pair)\n",
    "    zones=list(map(int,strings))\n",
    "    if (zones[1]>=zones[2] and zones[0]<=zones[3]) or (zones[0]<=zones[3] and zones[1]>=zones[2]):\n",
    "        reconsider+=1\n",
    "\n",
    "print(reconsider)"
   ]
  },
  {
   "cell_type": "code",
   "execution_count": 33,
   "metadata": {},
   "outputs": [],
   "source": [
    "## 870 was the right answer!"
   ]
  }
 ],
 "metadata": {
  "interpreter": {
   "hash": "698409b7348d6fb27fe243303516f8163e0f716df744a1d8d0be11df1e6b32f7"
  },
  "kernelspec": {
   "display_name": "Python 3.10.6 64-bit",
   "language": "python",
   "name": "python3"
  },
  "language_info": {
   "codemirror_mode": {
    "name": "ipython",
    "version": 3
   },
   "file_extension": ".py",
   "mimetype": "text/x-python",
   "name": "python",
   "nbconvert_exporter": "python",
   "pygments_lexer": "ipython3",
   "version": "3.10.6"
  },
  "orig_nbformat": 4
 },
 "nbformat": 4,
 "nbformat_minor": 2
}
