{
 "cells": [
  {
   "cell_type": "code",
   "execution_count": 1,
   "metadata": {},
   "outputs": [],
   "source": [
    "with open('puzzleinput.txt') as file:\n",
    "    data=[line.rstrip() for line in file]"
   ]
  },
  {
   "cell_type": "code",
   "execution_count": 19,
   "metadata": {},
   "outputs": [
    {
     "data": {
      "text/plain": [
       "{'B', 'L', 'P', 'S', 'c', 'h', 'l', 'm', 'n', 'r', 'w'}"
      ]
     },
     "execution_count": 19,
     "metadata": {},
     "output_type": "execute_result"
    }
   ],
   "source": [
    "set(rucksack1)"
   ]
  },
  {
   "cell_type": "code",
   "execution_count": 22,
   "metadata": {},
   "outputs": [
    {
     "data": {
      "text/plain": [
       "{'w'}"
      ]
     },
     "execution_count": 22,
     "metadata": {},
     "output_type": "execute_result"
    }
   ],
   "source": [
    "set(rucksack1).intersection(set(rucksack2))\n",
    "# noice going with the set operations"
   ]
  },
  {
   "cell_type": "code",
   "execution_count": 35,
   "metadata": {},
   "outputs": [
    {
     "name": "stdout",
     "output_type": "stream",
     "text": [
      "7831\n"
     ]
    }
   ],
   "source": [
    "summation=0\n",
    "priority='abcdefghijklmnopqrstuvwxyzABCDEFGHIJKLMNOPQRSTUVWXYZ' # oh god\n",
    "# i just went with \n",
    "#  os = ord(Si)\n",
    "#  priority = os-(96 if os>95 else 38), ascii values ftw\n",
    "\n",
    "for sack in data:\n",
    "    n=int(len(sack)/2)\n",
    "    compartment1=sack[0:n]\n",
    "    compartment2=sack[n:n*2]\n",
    "    # any time you're starting from 0 or going to the end you don't need that part of the splice\n",
    "    # ie: [0:n] == [:n]\n",
    "    # [n:n*2] == [n:]\n",
    "    \n",
    "    item=''.join(set(compartment1).intersection(set(compartment2)))\n",
    "    summation+=priority.index(item)+1\n",
    "\n",
    "print(summation)\n"
   ]
  },
  {
   "cell_type": "code",
   "execution_count": null,
   "metadata": {},
   "outputs": [],
   "source": [
    "## 7831 was the answer!"
   ]
  },
  {
   "cell_type": "code",
   "execution_count": 1,
   "metadata": {},
   "outputs": [
    {
     "ename": "NameError",
     "evalue": "name 'data' is not defined",
     "output_type": "error",
     "traceback": [
      "\u001b[1;31m---------------------------------------------------------------------------\u001b[0m",
      "\u001b[1;31mNameError\u001b[0m                                 Traceback (most recent call last)",
      "Cell \u001b[1;32mIn[1], line 3\u001b[0m\n\u001b[0;32m      1\u001b[0m summation\u001b[38;5;241m=\u001b[39m\u001b[38;5;241m0\u001b[39m\n\u001b[0;32m      2\u001b[0m priority\u001b[38;5;241m=\u001b[39m\u001b[38;5;124m'\u001b[39m\u001b[38;5;124mabcdefghijklmnopqrstuvwxyzABCDEFGHIJKLMNOPQRSTUVWXYZ\u001b[39m\u001b[38;5;124m'\u001b[39m\n\u001b[1;32m----> 3\u001b[0m groups\u001b[38;5;241m=\u001b[39m[data[i:i\u001b[38;5;241m+\u001b[39m\u001b[38;5;241m3\u001b[39m] \u001b[38;5;28;01mfor\u001b[39;00m i \u001b[38;5;129;01min\u001b[39;00m \u001b[38;5;28mrange\u001b[39m(\u001b[38;5;241m0\u001b[39m,\u001b[38;5;28mlen\u001b[39m(\u001b[43mdata\u001b[49m),\u001b[38;5;241m3\u001b[39m)]\n\u001b[0;32m      5\u001b[0m \u001b[38;5;28;01mfor\u001b[39;00m sacks \u001b[38;5;129;01min\u001b[39;00m groups:\n\u001b[0;32m      6\u001b[0m     common\u001b[38;5;241m=\u001b[39m\u001b[38;5;28mset\u001b[39m(sacks[\u001b[38;5;241m0\u001b[39m])\u001b[38;5;241m.\u001b[39mintersection(\u001b[38;5;28mset\u001b[39m(sacks[\u001b[38;5;241m1\u001b[39m]))\u001b[38;5;241m.\u001b[39mintersection(\u001b[38;5;28mset\u001b[39m(sacks[\u001b[38;5;241m2\u001b[39m]))\n",
      "\u001b[1;31mNameError\u001b[0m: name 'data' is not defined"
     ]
    }
   ],
   "source": [
    "summation=0\n",
    "priority='abcdefghijklmnopqrstuvwxyzABCDEFGHIJKLMNOPQRSTUVWXYZ'\n",
    "groups=[data[i:i+3] for i in range(0,len(data),3)]\n",
    "\n",
    "for sacks in groups:\n",
    "    common=set(sacks[0]).intersection(set(sacks[1])).intersection(set(sacks[2]))\n",
    "    item=''.join(common)\n",
    "    summation+=priority.index(item)+1\n",
    "\n",
    "print(summation)\n",
    "\n",
    "#Overall, very good approach, the only difference i would this of is just using the ascii value math instead of typing out the priority list \n",
    "# but that's just a tiny speed change and would be slower if you didn't know the ascii values by heart xD\n"
   ]
  },
  {
   "cell_type": "code",
   "execution_count": null,
   "metadata": {},
   "outputs": [],
   "source": [
    "## 2683 was the answer!"
   ]
  }
 ],
 "metadata": {
  "kernelspec": {
   "display_name": "Python 3.10.2 64-bit",
   "language": "python",
   "name": "python3"
  },
  "language_info": {
   "codemirror_mode": {
    "name": "ipython",
    "version": 3
   },
   "file_extension": ".py",
   "mimetype": "text/x-python",
   "name": "python",
   "nbconvert_exporter": "python",
   "pygments_lexer": "ipython3",
   "version": "3.10.2"
  },
  "orig_nbformat": 4,
  "vscode": {
   "interpreter": {
    "hash": "5312a05d4c1062e7e99dc4a1327331a73c17135ec320657c0e8e8843948bfa85"
   }
  }
 },
 "nbformat": 4,
 "nbformat_minor": 2
}
