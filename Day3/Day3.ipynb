{
 "cells": [
  {
   "cell_type": "code",
   "execution_count": 1,
   "metadata": {},
   "outputs": [],
   "source": [
    "with open('puzzleinput.txt') as file:\n",
    "    data=[line.rstrip() for line in file]"
   ]
  },
  {
   "cell_type": "code",
   "execution_count": 19,
   "metadata": {},
   "outputs": [
    {
     "data": {
      "text/plain": [
       "{'B', 'L', 'P', 'S', 'c', 'h', 'l', 'm', 'n', 'r', 'w'}"
      ]
     },
     "execution_count": 19,
     "metadata": {},
     "output_type": "execute_result"
    }
   ],
   "source": [
    "set(rucksack1)"
   ]
  },
  {
   "cell_type": "code",
   "execution_count": 22,
   "metadata": {},
   "outputs": [
    {
     "data": {
      "text/plain": [
       "{'w'}"
      ]
     },
     "execution_count": 22,
     "metadata": {},
     "output_type": "execute_result"
    }
   ],
   "source": [
    "set(rucksack1).intersection(set(rucksack2))"
   ]
  },
  {
   "cell_type": "code",
   "execution_count": 35,
   "metadata": {},
   "outputs": [
    {
     "name": "stdout",
     "output_type": "stream",
     "text": [
      "7831\n"
     ]
    }
   ],
   "source": [
    "summation=0\n",
    "priority='abcdefghijklmnopqrstuvwxyzABCDEFGHIJKLMNOPQRSTUVWXYZ'\n",
    "\n",
    "for sack in data:\n",
    "    n=int(len(sack)/2)\n",
    "    compartment1=sack[0:n]\n",
    "    compartment2=sack[n:n*2]\n",
    "    item=''.join(set(compartment1).intersection(set(compartment2)))\n",
    "    summation+=priority.index(item)+1\n",
    "\n",
    "print(summation)\n"
   ]
  },
  {
   "cell_type": "code",
   "execution_count": null,
   "metadata": {},
   "outputs": [],
   "source": [
    "## 7831 was the answer!"
   ]
  },
  {
   "cell_type": "code",
   "execution_count": 43,
   "metadata": {},
   "outputs": [
    {
     "name": "stdout",
     "output_type": "stream",
     "text": [
      "2683\n"
     ]
    }
   ],
   "source": [
    "summation=0\n",
    "priority='abcdefghijklmnopqrstuvwxyzABCDEFGHIJKLMNOPQRSTUVWXYZ'\n",
    "groups=[data[i:i+3] for i in range(0,len(data),3)]\n",
    "\n",
    "for sacks in groups:\n",
    "    common=set(sacks[0]).intersection(set(sacks[1])).intersection(set(sacks[2]))\n",
    "    item=''.join(common)\n",
    "    summation+=priority.index(item)+1\n",
    "\n",
    "print(summation)"
   ]
  },
  {
   "cell_type": "code",
   "execution_count": null,
   "metadata": {},
   "outputs": [],
   "source": [
    "## 2683 was the answer!"
   ]
  }
 ],
 "metadata": {
  "interpreter": {
   "hash": "698409b7348d6fb27fe243303516f8163e0f716df744a1d8d0be11df1e6b32f7"
  },
  "kernelspec": {
   "display_name": "Python 3.10.6 64-bit",
   "language": "python",
   "name": "python3"
  },
  "language_info": {
   "codemirror_mode": {
    "name": "ipython",
    "version": 3
   },
   "file_extension": ".py",
   "mimetype": "text/x-python",
   "name": "python",
   "nbconvert_exporter": "python",
   "pygments_lexer": "ipython3",
   "version": "3.10.6"
  },
  "orig_nbformat": 4
 },
 "nbformat": 4,
 "nbformat_minor": 2
}
