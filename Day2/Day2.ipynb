{
 "cells": [
  {
   "cell_type": "code",
   "execution_count": 4,
   "metadata": {},
   "outputs": [
    {
     "name": "stdout",
     "output_type": "stream",
     "text": [
      "['B Y', 'A X', 'C Z', 'A Z', 'B Y', 'B Y', 'A X', 'C Z', 'B Y', 'B Y', 'C Z', 'C X', 'B Y', 'C Z', 'B Y', 'C Z', 'A Z', 'A Z', 'A X', 'B Y', 'A X', 'C Z', 'C Y', 'C Z', 'C Z', 'C Z', 'A X', 'A X', 'B Y', 'A Z', 'B Z', 'B Y', 'A X', 'A X', 'C Z', 'B Y', 'B Y', 'B Z', 'A Z', 'A X', 'C Z', 'B Z', 'A Z', 'C Z', 'C Z', 'C Z', 'C Z', 'C Z', 'C Z', 'B X', 'A Z', 'A Z', 'C Z', 'C Z', 'C Z', 'A Y', 'C Z', 'B Y', 'C Z', 'C Z', 'C Z', 'B Y', 'B Z', 'A X', 'A X', 'C Z', 'B Y', 'B Y', 'B Z', 'A X', 'A X', 'C Z', 'B Y', 'C Z', 'A X', 'C Z', 'A X', 'C X', 'A Y', 'A Y', 'B Y', 'A Y', 'C Z', 'B Y', 'C Z', 'C Z', 'A X', 'C Z', 'A Z', 'C Z', 'A X', 'C Z', 'B Y', 'B Y', 'C Z', 'B Z', 'C Y', 'C Z', 'B Y', 'C Z', 'C Z', 'B X', 'A X', 'C Z', 'C Z', 'B Y', 'C Z', 'B Y', 'A Z', 'B Y', 'B Z', 'A Z', 'C Z', 'C Z', 'C Z', 'A Z', 'C Z', 'A X', 'A X', 'A Z', 'C Z', 'A X', 'A Z', 'C Z', 'A Z', 'A Y', 'B Y', 'A Z', 'B X', 'A X', 'C Z', 'C Z', 'B Y', 'C Y', 'B Y', 'B Z', 'B Y', 'B Y', 'C Z', 'C Z', 'C Z', 'C Z', 'A Y', 'C Z', 'B Z', 'A X', 'B Y', 'A Y', 'C Z', 'C Z', 'C Z', 'C Z', 'C Z', 'B Y', 'C Z', 'B Y', 'C Z', 'B Y', 'C Z', 'C X', 'A Y', 'A X', 'C Y', 'B Y', 'A Z', 'C Z', 'C Z', 'B Y', 'B Y', 'A X', 'B Y', 'A Y', 'A X', 'A X', 'B Y', 'A X', 'A X', 'B Y', 'C Z', 'C Z', 'B Y', 'C Z', 'A Z', 'C Z', 'B Z', 'C Z', 'A Y', 'C Z', 'B Z', 'C Z', 'A Y', 'A Y', 'C Z', 'A X', 'B Y', 'C Z', 'A X', 'B Y', 'B Y', 'A X', 'A X', 'C Z', 'B Y', 'C Z', 'B Z', 'C Z', 'A X', 'C Z', 'B Y', 'B Y', 'A X', 'B Z', 'C Z', 'B Z', 'B Y', 'B Y', 'A Y', 'B Z', 'A Z', 'C Z', 'C Z', 'A X', 'A X', 'A X', 'C Z', 'B Y', 'A X', 'A Y', 'C Z', 'A X', 'B Y', 'A Y', 'A Y', 'C Z', 'C Z', 'C Z', 'A Z', 'B Z', 'C Z', 'B Y', 'C Z', 'C Z', 'A Y', 'A X', 'C Z', 'B Y', 'C Z', 'C Z', 'B Y', 'B Y', 'A Y', 'C Z', 'B Y', 'B Y', 'A Z', 'C Z', 'C Z', 'C Z', 'C Z', 'B Z', 'C Z', 'B Y', 'A X', 'C Z', 'B Z', 'A Z', 'A X', 'C Z', 'A X', 'A X', 'B Y', 'C Z', 'C Z', 'A X', 'C Z', 'A Y', 'C Z', 'C Z', 'A X', 'B Y', 'C Z', 'B Z', 'B Y', 'C Z', 'A Z', 'C Z', 'C Z', 'A Y', 'A Z', 'C Z', 'C Z', 'B Z', 'C Z', 'B Y', 'C Z', 'C Z', 'A X', 'C Z', 'C Z', 'B Z', 'C Z', 'B Z', 'A X', 'B Y', 'C Z', 'C Z', 'C Z', 'C Z', 'C Z', 'A Z', 'A Y', 'A X', 'A X', 'C Z', 'B X', 'A Z', 'A X', 'C Z', 'B Z', 'C Z', 'B Y', 'A Z', 'C Z', 'B Y', 'C Z', 'C Y', 'A Y', 'C Z', 'B Y', 'B Y', 'C Z', 'A X', 'C Z', 'A X', 'C X', 'A X', 'B X', 'A X', 'C Z', 'C Z', 'C Z', 'B Y', 'B Y', 'C Z', 'B Z', 'C Z', 'B Y', 'A X', 'C X', 'C Z', 'B Y', 'A Z', 'A X', 'B Y', 'B Y', 'C Z', 'C Z', 'C Z', 'B Y', 'A X', 'A X', 'B Y', 'A X', 'A Y', 'C Z', 'B Y', 'A X', 'A Y', 'B Y', 'A X', 'A X', 'C Z', 'C Z', 'C Z', 'C Z', 'C Z', 'A X', 'A X', 'B Z', 'A Y', 'C Z', 'A X', 'C Z', 'B Y', 'C Z', 'A Z', 'C Z', 'C Z', 'A Y', 'B Z', 'C Z', 'A X', 'B Y', 'B Y', 'C Z', 'A Y', 'C Z', 'C Z', 'C Z', 'C Z', 'C Z', 'B Y', 'A X', 'A X', 'B Y', 'C Z', 'C Z', 'A Z', 'C Z', 'C Z', 'C Z', 'A Y', 'B Z', 'B Y', 'B Y', 'C Z', 'A X', 'A Y', 'C Z', 'A X', 'A Y', 'A X', 'C Z', 'A Y', 'B Z', 'B Y', 'B Z', 'C Z', 'C Z', 'C Z', 'B Z', 'B Z', 'C Z', 'C Z', 'C Z', 'C Z', 'B Y', 'B Z', 'A Y', 'A Y', 'B Z', 'B X', 'A Z', 'A X', 'C Z', 'A X', 'A Y', 'A X', 'A X', 'A X', 'C Z', 'C Z', 'C Z', 'A X', 'C Z', 'C Z', 'B Y', 'A X', 'C Z', 'A X', 'A Y', 'A X', 'C Z', 'A Y', 'C Z', 'B Y', 'A X', 'A Y', 'A Z', 'C Z', 'B Y', 'B Y', 'B Z', 'A X', 'A X', 'B Y', 'C Z', 'A X', 'B Y', 'C Z', 'C Z', 'C Z', 'A X', 'A Y', 'A Z', 'C Z', 'B Y', 'C Z', 'A X', 'A Z', 'A Z', 'B Y', 'B Y', 'A X', 'B Y', 'C Z', 'B Z', 'C Z', 'B Y', 'A Z', 'C Z', 'A Y', 'A X', 'A Z', 'B Y', 'A X', 'A Z', 'C Z', 'A Z', 'C Z', 'C Z', 'A X', 'C Z', 'A X', 'C Z', 'A X', 'C Z', 'B Y', 'C Z', 'A X', 'B Y', 'A Y', 'C X', 'A Y', 'A Z', 'A X', 'A Z', 'B Y', 'A X', 'C Z', 'A Y', 'B Y', 'B Y', 'C Z', 'B Y', 'C Z', 'B Y', 'B Z', 'C Z', 'C Z', 'B Y', 'A X', 'C Z', 'B Y', 'C Z', 'C Z', 'C Z', 'C Z', 'C Z', 'A X', 'A X', 'A Z', 'A Z', 'C Z', 'A Y', 'B Y', 'A Y', 'A Y', 'B Y', 'C X', 'A Y', 'C Z', 'C Z', 'C Z', 'A Y', 'A Y', 'A Y', 'C Z', 'A X', 'B Y', 'A X', 'B X', 'A Y', 'A Y', 'A X', 'B Z', 'B Y', 'C Z', 'B Y', 'C Z', 'B Y', 'C Z', 'A Z', 'C Z', 'A X', 'B Y', 'A X', 'C Z', 'B Z', 'C Z', 'B Y', 'C Z', 'C Z', 'C Z', 'A X', 'A X', 'B Y', 'B Z', 'A Z', 'A X', 'A X', 'C Z', 'A X', 'A X', 'C X', 'C X', 'C Z', 'B Y', 'B Z', 'C Z', 'A X', 'B Y', 'B Y', 'A Z', 'C Z', 'C Y', 'A X', 'B Y', 'B Y', 'C Y', 'A X', 'A X', 'A X', 'A X', 'A Z', 'B Y', 'A Z', 'C Z', 'C Z', 'B Y', 'B Z', 'B Y', 'A Y', 'C Z', 'C Z', 'B Y', 'A Y', 'C Z', 'A X', 'C Z', 'C Z', 'A X', 'B Y', 'C Z', 'C Z', 'A X', 'A Z', 'C Z', 'A Z', 'C Z', 'B Z', 'A X', 'A Y', 'B Y', 'A X', 'A Y', 'A Z', 'A Y', 'A X', 'A Y', 'C Z', 'A X', 'C Z', 'C Z', 'A X', 'A Y', 'A X', 'C Z', 'A Z', 'C Z', 'C Z', 'C Z', 'A X', 'B Y', 'A X', 'C Z', 'C Z', 'C Z', 'C Z', 'A X', 'C Z', 'C Z', 'B Y', 'A Y', 'A X', 'A X', 'C Z', 'C Z', 'A X', 'C Z', 'C Z', 'B Y', 'C Z', 'A X', 'C Z', 'C Z', 'A Y', 'A X', 'C Z', 'A Y', 'C Z', 'A X', 'B Z', 'B Y', 'A X', 'B Y', 'C Z', 'A X', 'C Z', 'C Z', 'A X', 'C Z', 'B X', 'C Z', 'C Z', 'A Y', 'C Z', 'A Y', 'B X', 'C Z', 'B Y', 'C Z', 'A Z', 'C Z', 'A X', 'C Z', 'C Z', 'C Z', 'C Z', 'A X', 'B X', 'C Z', 'C Z', 'B Y', 'A Z', 'A Y', 'C Z', 'A X', 'A Z', 'A X', 'A X', 'B Y', 'A X', 'C Z', 'A X', 'A X', 'B Y', 'A X', 'B Z', 'C Z', 'A Z', 'A Y', 'A X', 'B Y', 'A X', 'A Z', 'A X', 'B Y', 'B Z', 'B Y', 'C Z', 'B Y', 'A X', 'A Y', 'C Z', 'A X', 'B Z', 'C Z', 'C Z', 'A X', 'A X', 'A Y', 'C Z', 'C Z', 'C Z', 'A Y', 'B Y', 'A X', 'C Z', 'B Y', 'B Y', 'A X', 'A X', 'B Y', 'C Z', 'B Y', 'A X', 'A Z', 'C Z', 'C Z', 'C Z', 'C Z', 'B Z', 'C Z', 'A Z', 'C Z', 'A Y', 'B Y', 'A Y', 'C X', 'C Z', 'C Z', 'A Y', 'A X', 'B Y', 'C Z', 'A X', 'C Z', 'A X', 'A Y', 'A Y', 'B Z', 'C Y', 'B Y', 'C Z', 'B Y', 'A X', 'C Z', 'C Z', 'C Z', 'C Z', 'B Y', 'A X', 'B Y', 'A Y', 'C Z', 'B Y', 'A Z', 'B Z', 'C Z', 'C Z', 'C Z', 'C Z', 'A Y', 'A X', 'C Z', 'A X', 'C Z', 'C Z', 'C Z', 'C Z', 'C Z', 'B X', 'C Z', 'B Z', 'A X', 'A X', 'A Y', 'A X', 'A Z', 'B Y', 'A Y', 'C Z', 'C Z', 'C Z', 'C Z', 'C X', 'A Y', 'C Z', 'C Z', 'B Y', 'A X', 'C Y', 'B Y', 'C Z', 'C Z', 'C Z', 'B X', 'A X', 'C Z', 'A X', 'C Z', 'C Z', 'C Z', 'C Y', 'A X', 'C Z', 'A Z', 'C Z', 'C Z', 'B Y', 'A X', 'A X', 'A Z', 'A Y', 'C Z', 'C Z', 'C Z', 'C Z', 'C Z', 'C Z', 'C Z', 'B Y', 'A Y', 'A X', 'C Z', 'C Z', 'A X', 'A X', 'C Z', 'C Z', 'B Y', 'A X', 'A X', 'C Z', 'C Z', 'C Z', 'B Y', 'A Y', 'B Z', 'A Y', 'C Z', 'A X', 'C Z', 'C Z', 'B Y', 'A Y', 'A X', 'B Z', 'A X', 'C Z', 'C Z', 'C Z', 'C Z', 'B Z', 'C Z', 'B Y', 'C Z', 'C Z', 'C Z', 'B Y', 'C Z', 'C Y', 'B Z', 'B Z', 'A Y', 'C Z', 'C Z', 'B Z', 'B Y', 'C Z', 'B Y', 'C Z', 'C Z', 'B Y', 'C Z', 'C Z', 'C Z', 'A Y', 'A X', 'B Y', 'C Z', 'C Z', 'C Z', 'B Y', 'C Z', 'A Y', 'A X', 'A Z', 'A Y', 'C Z', 'C Z', 'C Z', 'B Z', 'C Z', 'B Y', 'C Z', 'B Y', 'A Y', 'C Z', 'C Z', 'A Z', 'B Y', 'A X', 'A X', 'B Z', 'A X', 'C Z', 'C Z', 'C Z', 'A X', 'B Z', 'C Z', 'A X', 'C Z', 'C Z', 'C Z', 'C Z', 'C Z', 'C Z', 'A Y', 'C Z', 'A Z', 'A X', 'B Y', 'C Z', 'C Z', 'A X', 'A Y', 'C Z', 'B Y', 'A X', 'C Z', 'C Z', 'A X', 'A Y', 'A X', 'B Z', 'C Z', 'A X', 'C Z', 'A X', 'A Z', 'B Y', 'C Z', 'C Z', 'C X', 'B Z', 'B X', 'B Y', 'A Z', 'C Z', 'A X', 'B Z', 'A X', 'B Y', 'C Z', 'B Z', 'A Z', 'A Z', 'C Z', 'C Z', 'C Z', 'C Z', 'B Y', 'B Y', 'A Y', 'A X', 'A X', 'B Y', 'A Z', 'A X', 'C Z', 'B Z', 'A X', 'A X', 'B Y', 'A X', 'C Z', 'A X', 'C Z', 'C Z', 'C Z', 'C Z', 'A X', 'A X', 'A Z', 'C Z', 'A X', 'B Z', 'C Z', 'B Y', 'C Z', 'C Z', 'A Y', 'C Z', 'B Z', 'C Z', 'C Z', 'B Y', 'C Z', 'C Z', 'B Y', 'A X', 'A X', 'C Z', 'C Z', 'C Z', 'A X', 'C Z', 'C Z', 'B Y', 'C Z', 'B Z', 'C Z', 'A X', 'C Z', 'A X', 'C Z', 'A Y', 'C Z', 'C Z', 'A X', 'B Y', 'C Z', 'C Z', 'C Z', 'A X', 'B Y', 'C Z', 'A X', 'B Z', 'A X', 'B Z', 'C Z', 'A X', 'C Z', 'B Y', 'A Z', 'B X', 'A Y', 'C Z', 'C Z', 'B X', 'A Y', 'A X', 'C Z', 'A X', 'C Z', 'B X', 'A X', 'B Y', 'A Z', 'A X', 'C Z', 'A Y', 'C Z', 'A X', 'C Z', 'C Z', 'C Z', 'C Z', 'A Z', 'C Z', 'C Z', 'B Y', 'A X', 'B Y', 'C Z', 'B Y', 'A X', 'C Z', 'C Z', 'A X', 'A X', 'B Y', 'C Z', 'B Y', 'C Z', 'C Z', 'A Z', 'C Z', 'C Z', 'C Z', 'A Y', 'A Z', 'C Z', 'C Z', 'C Z', 'C Z', 'A X', 'C Z', 'A X', 'A X', 'B Z', 'C Z', 'C Z', 'C Z', 'B Z', 'A X', 'C Z', 'A Y', 'B Y', 'C Z', 'A Y', 'C Z', 'C Z', 'A X', 'A X', 'B Y', 'A Z', 'A Y', 'A X', 'B X', 'B Y', 'B Z', 'B Y', 'A X', 'C Z', 'C Z', 'B Z', 'B Z', 'B Z', 'C Z', 'C Z', 'B Y', 'B Y', 'B Y', 'C Z', 'B Y', 'A X', 'A Z', 'B Z', 'A X', 'B Z', 'A X', 'C Z', 'B Y', 'B X', 'A X', 'C Z', 'A X', 'C Z', 'C Z', 'C Z', 'B X', 'B Y', 'A Y', 'A X', 'A X', 'A Y', 'C Z', 'C Z', 'B Y', 'C Z', 'B Z', 'A X', 'C Z', 'C Z', 'C Z', 'A X', 'A Y', 'C Z', 'B Z', 'A X', 'A Y', 'A Z', 'C Z', 'B Y', 'B Z', 'A X', 'C Z', 'A X', 'A X', 'A Z', 'C Z', 'C Z', 'B Y', 'A X', 'C Z', 'A Y', 'A Z', 'A X', 'A X', 'C Z', 'A Y', 'B Y', 'C Z', 'A Z', 'C Z', 'B Y', 'A X', 'A X', 'A X', 'C Y', 'C Z', 'A Y', 'B Z', 'C X', 'A X', 'A X', 'A X', 'A X', 'B Z', 'B Y', 'C Z', 'B Y', 'A X', 'B Y', 'C Z', 'B Y', 'C Z', 'C Z', 'A X', 'B Y', 'A Y', 'B X', 'A X', 'B X', 'C Z', 'A Z', 'A X', 'B Y', 'B Y', 'C Z', 'A X', 'A X', 'B Y', 'C Z', 'A X', 'C Z', 'A X', 'A Z', 'A Z', 'C Z', 'A Z', 'C Z', 'C Z', 'C Z', 'C Z', 'A Z', 'C Y', 'C Z', 'C Z', 'A Z', 'A Y', 'A X', 'B Z', 'C Z', 'C Z', 'C Z', 'A Y', 'C Z', 'C Z', 'C Z', 'C Z', 'A Z', 'B Z', 'A X', 'C Z', 'C Z', 'A Y', 'B Y', 'A X', 'C Z', 'A X', 'B Y', 'A X', 'A X', 'A Z', 'B Y', 'C Z', 'B X', 'C X', 'A X', 'A X', 'A X', 'C Z', 'C Z', 'A X', 'B Y', 'A Z', 'B Y', 'A X', 'A Y', 'C Z', 'B Y', 'C Z', 'B Y', 'A Y', 'B Y', 'A Y', 'A X', 'C Z', 'C Z', 'A X', 'B Y', 'A X', 'C Z', 'C Z', 'A Y', 'B Y', 'B Y', 'A Z', 'B Y', 'C Z', 'C Z', 'C Z', 'B Y', 'A X', 'B Y', 'A X', 'C Z', 'C Z', 'C Z', 'A X', 'C Z', 'C Z', 'B Y', 'C Z', 'B Z', 'B Y', 'A X', 'B Y', 'A Z', 'B Y', 'A X', 'B X', 'C Z', 'A Z', 'B Y', 'C Z', 'B Y', 'C Z', 'C Z', 'C Z', 'C Z', 'B X', 'A X', 'B Y', 'B Y', 'A X', 'C Z', 'A X', 'B Z', 'B Z', 'B Z', 'A X', 'C X', 'A X', 'A X', 'A X', 'B Y', 'B Y', 'C Z', 'C Z', 'A X', 'C Z', 'B Y', 'A X', 'C Z', 'A X', 'C Z', 'A X', 'B Y', 'C Z', 'C Z', 'A Y', 'B Y', 'C Z', 'A Z', 'C Z', 'A X', 'C Z', 'C Z', 'A Z', 'A Y', 'C Z', 'A X', 'B Y', 'B Z', 'C Z', 'A Y', 'A Y', 'C Z', 'C Z', 'B Z', 'A Z', 'C Z', 'A X', 'C Z', 'A X', 'C Z', 'C Z', 'C Z', 'B Y', 'C Y', 'B Y', 'A Y', 'A X', 'C Z', 'B Y', 'C Z', 'C Z', 'C Z', 'A Z', 'C X', 'A Y', 'C Z', 'A Y', 'A Y', 'C Z', 'A Z', 'C Z', 'C Z', 'C Z', 'C Z', 'C Z', 'B Y', 'A Y', 'B Y', 'A Z', 'B Y', 'A X', 'A X', 'B Y', 'A Z', 'B Y', 'C Z', 'B Z', 'A X', 'C Z', 'A Y', 'A Y', 'C Z', 'A X', 'A X', 'C Z', 'C Z', 'C Z', 'B Y', 'A X', 'C Z', 'B Y', 'C Z', 'B X', 'C Z', 'A Y', 'C Z', 'A X', 'C Z', 'A X', 'C Z', 'C Z', 'B Y', 'C Z', 'B Z', 'C Z', 'A Y', 'A X', 'A Z', 'C Z', 'C Z', 'C Z', 'C Z', 'C Z', 'A Z', 'B Y', 'B Y', 'B Y', 'C Z', 'C Z', 'C X', 'C Z', 'A X', 'B Y', 'C Z', 'C Z', 'A X', 'B Y', 'C Z', 'C Z', 'C Z', 'C Z', 'C Z', 'C Z', 'A X', 'B Z', 'C Z', 'C Z', 'C Z', 'A X', 'B Z', 'C Z', 'A X', 'C Z', 'A Y', 'B Y', 'C Z', 'B Z', 'B Y', 'C Z', 'B X', 'C Z', 'B Y', 'B Y', 'B Y', 'A X', 'A X', 'C Z', 'A Z', 'C Z', 'B Y', 'B Z', 'C Z', 'C Z', 'B Z', 'B Y', 'A Z', 'B Y', 'A X', 'A X', 'C Z', 'C Z', 'C Z', 'B Y', 'A X', 'C Z', 'C Z', 'A Y', 'C Z', 'B Y', 'C Z', 'C Z', 'C Z', 'C Z', 'C Z', 'C Z', 'B Y', 'B Y', 'C Z', 'A Z', 'A X', 'B Y', 'C Z', 'B Y', 'A X', 'A Z', 'C Z', 'B Y', 'A Z', 'C Z', 'B Y', 'A Z', 'A X', 'B Z', 'A X', 'C Z', 'B Y', 'C Z', 'A Y', 'C Y', 'A X', 'A Y', 'C Z', 'C Z', 'B Y', 'C Z', 'B Y', 'A Z', 'C Z', 'C Z', 'A X', 'C Z', 'B Z', 'A Y', 'B Z', 'A Z', 'A X', 'B Y', 'A Z', 'A Y', 'C Z', 'C Z', 'B Y', 'A X', 'B Y', 'C Z', 'A X', 'B Y', 'B Y', 'C Z', 'A Z', 'A X', 'C Z', 'B X', 'C Z', 'C Z', 'C Z', 'C Y', 'A Z', 'A X', 'C Z', 'C Z', 'A X', 'B Y', 'C Z', 'B Y', 'C Z', 'B Z', 'A Z', 'C Z', 'B Y', 'A X', 'C Z', 'C Z', 'B Z', 'C Z', 'A Z', 'B Y', 'B Z', 'C Z', 'C Z', 'A X', 'C Y', 'B Y', 'C Z', 'A X', 'C Z', 'C Z', 'B Y', 'B Z', 'C Z', 'C Z', 'A Y', 'A X', 'C Z', 'A X', 'B Z', 'B Y', 'A Z', 'B Z', 'C X', 'A X', 'C Z', 'C Z', 'C Z', 'A X', 'B Z', 'C Z', 'C Z', 'C Z', 'B Y', 'C Z', 'A X', 'C Z', 'C Z', 'B Y', 'C Z', 'A X', 'C Z', 'C Z', 'C Z', 'A X', 'A X', 'B Y', 'C Z', 'C Z', 'B Y', 'B Z', 'B Y', 'C Z', 'A X', 'A X', 'B Y', 'A X', 'B Y', 'C Z', 'A X', 'C Z', 'C Z', 'B Z', 'A X', 'B Y', 'C Z', 'C Z', 'C Z', 'C Z', 'A Z', 'C Z', 'A X', 'B Y', 'A Y', 'A Y', 'C Z', 'C Z', 'C Z', 'B Y', 'A Z', 'A X', 'B Y', 'C Z', 'A X', 'C Z', 'A X', 'C Z', 'A X', 'C Z', 'C Z', 'B Y', 'A Y', 'C Z', 'B Y', 'B Y', 'A X', 'C Z', 'A Y', 'A Z', 'C Z', 'C Z', 'C Z', 'A Y', 'B Y', 'C Z', 'C Z', 'B Z', 'C Z', 'B Z', 'B Y', 'A X', 'A X', 'C Z', 'B Z', 'C Z', 'C Z', 'A X', 'A X', 'B Z', 'A X', 'C Z', 'C Z', 'B Y', 'A X', 'C Z', 'A X', 'B Y', 'C X', 'A Z', 'B Y', 'C Z', 'A X', 'B Y', 'C Z', 'A X', 'B Y', 'C Z', 'B X', 'C Z', 'A Y', 'C Z', 'A X', 'C X', 'B Z', 'C Z', 'B Y', 'B Y', 'B Y', 'A Y', 'A X', 'C Z', 'C Z', 'A Y', 'B Y', 'A X', 'C Z', 'A X', 'C Z', 'C Z', 'A X', 'C Z', 'A X', 'C Z', 'B Y', 'C Z', 'A X', 'A Z', 'C X', 'B Y', 'C Z', 'C Z', 'B Z', 'A X', 'A X', 'B Y', 'C Z', 'A Y', 'B Y', 'C Z', 'A X', 'A Z', 'A X', 'B Y', 'A X', 'B Y', 'C Z', 'C Z', 'B Y', 'A X', 'B Y', 'B Z', 'C Z', 'B Z', 'A X', 'C Z', 'C Z', 'A Y', 'C Z', 'A X', 'C Z', 'B Y', 'C Z', 'C Z', 'C Y', 'C Z', 'C Z', 'A Y', 'C Z', 'C Z', 'A Z', 'A X', 'B Z', 'C Z', 'A Y', 'A X', 'B Z', 'C Z', 'C Z', 'B Y', 'B Z', 'A X', 'A X', 'C Z', 'B Y', 'A Y', 'C Z', 'A Z', 'A X', 'C Z', 'A X', 'C Z', 'C Z', 'A Z', 'C Z', 'C Z', 'C Z', 'A Y', 'B Y', 'A X', 'B Z', 'B Y', 'C Z', 'C Z', 'C Z', 'C Z', 'C Z', 'C Z', 'C Z', 'A Z', 'B Z', 'B X', 'A X', 'A Z', 'A X', 'A X', 'B Y', 'C Z', 'C Z', 'A X', 'B Y', 'A Y', 'C Z', 'B Z', 'C Z', 'A X', 'B Y', 'C Z', 'B Y', 'A Z', 'C Z', 'A Y', 'C Z', 'A X', 'C Z', 'A Z', 'B Y', 'A Y', 'A X', 'A X', 'A Z', 'C Z', 'C Z', 'C Y', 'C Z', 'A Y', 'A X', 'B Y', 'A Z', 'B Z', 'B Z', 'C Z', 'C Z', 'C Z', 'C Z', 'A X', 'A Y', 'B Y', 'C Z', 'B Y', 'C Z', 'A X', 'B Y', 'C Z', 'C Z', 'A Z', 'A X', 'B Y', 'C Z', 'A Y', 'C Z', 'C Z', 'C Z', 'A X', 'B Y', 'A X', 'B Y', 'C Z', 'C Z', 'B Y', 'C Z', 'A X', 'A X', 'C Z', 'B Y', 'B Z', 'A X', 'A X', 'A X', 'C Z', 'C Z', 'B Y', 'A X', 'C Z', 'A X', 'A Z', 'C Z', 'C Z', 'C Z', 'C Z', 'A Z', 'A X', 'B X', 'B Z', 'A Y', 'C Z', 'C Y', 'B Y', 'C Z', 'A Y', 'A X', 'B Z', 'B Y', 'C Z', 'B Y', 'C Z', 'A X', 'A Z', 'A X', 'C Z', 'B Y', 'B Y', 'B Y', 'A Z', 'C Z', 'C Z', 'B Y', 'C Z', 'B Y', 'A X', 'B Y', 'A X', 'B Y', 'C Z', 'C Z', 'B Y', 'A X', 'A Y', 'B Z', 'C Z', 'C Z', 'A X', 'B Y', 'A X', 'A X', 'A Y', 'B X', 'A X', 'A X', 'C Z', 'B Z', 'A X', 'C Z', 'A Y', 'A Z', 'C Z', 'A Z', 'A X', 'B Y', 'A X', 'C X', 'C Z', 'B Y', 'C Z', 'A X', 'A X', 'C Z', 'A X', 'B Y', 'A X', 'C Z', 'B Z', 'C Z', 'A X', 'C X', 'C Z', 'C Z', 'A X', 'C Z', 'A Y', 'C Z', 'A X', 'B Y', 'B Y', 'B Y', 'B Y', 'B Y', 'B Y', 'B Y', 'B Y', 'A Y', 'A Z', 'B Y', 'C Z', 'C Z', 'B Y', 'A Z', 'A X', 'A Y', 'A X', 'C Z', 'A Y', 'A Z', 'A Y', 'B Y', 'C Z', 'C Z', 'A Y', 'C Z', 'A X', 'B Y', 'C Z', 'A X', 'C Z', 'A X', 'B Y', 'C Z', 'C Z', 'A Z', 'A X', 'C Z', 'B Y', 'A Z', 'C Z', 'A X', 'C Z', 'B Y', 'B Y', 'C Z', 'C Z', 'C Z', 'C Z', 'B Z', 'C Z', 'C Z', 'C Z', 'C Z', 'C Z', 'B Y', 'B Y', 'A X', 'C Z', 'C Z', 'A Z', 'C Z', 'A X', 'C Z', 'C Z', 'A X', 'B Y', 'A X', 'C Z', 'B Y', 'B Y', 'A Y', 'A Y', 'A X', 'A Y', 'A Y', 'C Z', 'C Z', 'A Y', 'C Z', 'A Y', 'B Y', 'C Z', 'C Z', 'C Z', 'B Y', 'B Y', 'B Y', 'A X', 'C Z', 'B Y', 'C Z', 'C Z', 'C Z', 'C Z', 'A X', 'B Y', 'A X', 'C Z', 'A X', 'C Y', 'A Y', 'B Y', 'C Z', 'C Z', 'C Z', 'C Z', 'B Y', 'C Z', 'C Z', 'B Y', 'C Z', 'A X', 'A X', 'B Y', 'B X', 'C Z', 'B Y', 'A X', 'B Z', 'A Z', 'C Z', 'C Z', 'C Z', 'C Z', 'B Y', 'A Z', 'C Z', 'C Z', 'C Z', 'C Z', 'A X', 'A X', 'B Y', 'A Z', 'C Z', 'C Z', 'C Z', 'C Z', 'A Z', 'B Y', 'A X', 'B Y', 'C Z', 'C Z', 'B Z', 'C Z', 'A Y', 'C Z', 'A Y', 'B Y', 'C Z', 'A X', 'C Z', 'A X', 'B Z', 'B Y', 'B Y', 'A X', 'B X', 'A X', 'C Z', 'B Y', 'A X', 'A Z', 'C Z', 'C Z', 'A Z', 'C Z', 'C Z', 'B Y', 'C Y', 'C Z', 'A Z', 'A Z', 'C Z', 'B X', 'C Z', 'C Z', 'B Y', 'C Z', 'B Y', 'B Y', 'A X', 'A Y', 'B Y', 'A X', 'B Z', 'C Z', 'A Z', 'A X', 'A X', 'A Z', 'A Z', 'B Z', 'A X', 'B Y', 'C Z', 'B Y', 'A X', 'C Z', 'B Z', 'A Y', 'B Z', 'C Z', 'A X', 'B Z', 'A X', 'A Y', 'C Z', 'C Z', 'C Z', 'C Z', 'C Z', 'A Y', 'A Y', 'A X', 'B Y', 'C Z', 'A X', 'B Y', 'A X', 'B Y', 'C Z', 'A Z', 'C Z', 'C Z', 'C Z', 'C Z', 'C Z', 'B Y', 'B Z', 'C Z', 'A X', 'A Z', 'A X', 'A X', 'C Z', 'C Z', 'C Z', 'C Z', 'B Y', 'C Z', 'A X', 'C Z', 'C Z', 'C Z', 'C Z', 'C Z', 'B Y', 'A Z', 'A X', 'A Z', 'C Z', 'C Z', 'C Z', 'C Z', 'B X', 'C Z', 'C Z', 'A X', 'C Z', 'A Z', 'B Z', 'B Y', 'B Z', 'A Y', 'B Y', 'B Y', 'C Z', 'A Y', 'A Y', 'A Y', 'C Z', 'C Z', 'B Z', 'A X', 'C Z', 'A X', 'A X', 'A X', 'C Z', 'C Z', 'A Z', 'A X', 'A Y', 'C Z', 'C Z', 'A X', 'B Z', 'C Z', 'A X', 'C Z', 'A Z', 'A X', 'C Z', 'C Z', 'A X', 'A Z', 'B Y', 'A X', 'B Y', 'C Z', 'C Z', 'A X', 'B Z', 'C Z', 'B Y', 'C Z', 'A Z', 'C Z', 'A X', 'B Y', 'C Z', 'C Z', 'A Y', 'C X', 'A Y', 'A Y', 'C Z', 'C Z', 'A X', 'A Z', 'B Y', 'C Z', 'B Y', 'C Z', 'A Y', 'C Z', 'C Z', 'C Z', 'A Z', 'C Z', 'C Z', 'B Y', 'A Y', 'C Z', 'C Z', 'B Y', 'A X', 'C Z', 'B Y', 'C Z', 'B Y', 'C Z', 'B Y', 'A X', 'A Y', 'B Y', 'C Z', 'B Z', 'A Y', 'C Z', 'A Y', 'A Z', 'C Z', 'B Y', 'C Z', 'C Z', 'B Y', 'A Y', 'A Y', 'C Z', 'C Z', 'A Y', 'C Z', 'C X', 'C Z', 'C Z', 'C Z', 'A X', 'C Z', 'B Y', 'B Y', 'C Z', 'C Y', 'B Z', 'C Z', 'B Y', 'A X', 'A X', 'B Y', 'C Z', 'A X', 'C Z', 'B Z', 'C Z', 'A X', 'B Y']\n"
     ]
    }
   ],
   "source": [
    "with open('puzzleinput.txt') as file:\n",
    "    data=[line.rstrip() for line in file]"
   ]
  },
  {
   "cell_type": "code",
   "execution_count": 6,
   "metadata": {},
   "outputs": [
    {
     "name": "stdout",
     "output_type": "stream",
     "text": [
      "13675\n"
     ]
    }
   ],
   "source": [
    "outcomes={\n",
    "    'A X': 1+3,\n",
    "    'A Y': 2+6,\n",
    "    'A Z': 3+0,\n",
    "    'B X': 1+0,\n",
    "    'B Y': 2+3,\n",
    "    'B Z': 3+6,\n",
    "    'C X': 1+6,\n",
    "    'C Y': 2+0,\n",
    "    'C Z': 3+3\n",
    "}\n",
    "\n",
    "total_score=sum(outcomes[move] for move in data)\n",
    "print(total_score)"
   ]
  },
  {
   "cell_type": "code",
   "execution_count": null,
   "metadata": {},
   "outputs": [],
   "source": [
    "##13675 was the answer!"
   ]
  },
  {
   "cell_type": "code",
   "execution_count": 8,
   "metadata": {},
   "outputs": [
    {
     "name": "stdout",
     "output_type": "stream",
     "text": [
      "14184\n"
     ]
    }
   ],
   "source": [
    "new_outcomes={\n",
    "    'A X': 3+0,\n",
    "    'A Y': 1+3,\n",
    "    'A Z': 2+6,\n",
    "    'B X': 1+0,\n",
    "    'B Y': 2+3,\n",
    "    'B Z': 3+6,\n",
    "    'C X': 2+0,\n",
    "    'C Y': 3+3,\n",
    "    'C Z': 1+6\n",
    "}\n",
    "## hahaha clever. i never thought to just list them out xD this is definitely the easiest approach given the problem statement, \n",
    "\n",
    "total_score=sum(new_outcomes[move] for move in data)\n",
    "print(total_score)"
   ]
  },
  {
   "cell_type": "code",
   "execution_count": null,
   "metadata": {},
   "outputs": [],
   "source": [
    "# 13861 was too low\n",
    "## 14184 was right!"
   ]
  }
 ],
 "metadata": {
  "interpreter": {
   "hash": "698409b7348d6fb27fe243303516f8163e0f716df744a1d8d0be11df1e6b32f7"
  },
  "kernelspec": {
   "display_name": "Python 3.10.6 64-bit",
   "language": "python",
   "name": "python3"
  },
  "language_info": {
   "name": "python",
   "version": "3.10.6"
  },
  "orig_nbformat": 4
 },
 "nbformat": 4,
 "nbformat_minor": 2
}
