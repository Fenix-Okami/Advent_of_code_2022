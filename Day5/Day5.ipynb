{
 "cells": [
  {
   "cell_type": "code",
   "execution_count": 4,
   "metadata": {},
   "outputs": [],
   "source": [
    "with open('puzzleinput.txt') as file:\n",
    "    data=[line.rstrip() for line in file]"
   ]
  },
  {
   "cell_type": "code",
   "execution_count": 11,
   "metadata": {},
   "outputs": [
    {
     "name": "stdout",
     "output_type": "stream",
     "text": [
      "{'1': [], '2': [], '3': [], '4': [], '5': [], '6': [], '7': [], '8': [], '9': []}\n"
     ]
    }
   ],
   "source": [
    "stacks={s:[] for s in data[8] if s!=' '}\n",
    "print(stacks)"
   ]
  },
  {
   "cell_type": "code",
   "execution_count": 45,
   "metadata": {},
   "outputs": [
    {
     "name": "stdout",
     "output_type": "stream",
     "text": [
      "{'1': ['G', 'D', 'V', 'Z', 'J', 'S', 'B'], '2': ['Z', 'S', 'M', 'G', 'V', 'P'], '3': ['C', 'L', 'B', 'S', 'W', 'T', 'Q', 'F'], '4': ['H', 'J', 'G', 'W', 'M', 'R', 'V', 'Q'], '5': ['C', 'L', 'S', 'N', 'F', 'M', 'D'], '6': ['R', 'G', 'C', 'D'], '7': ['H', 'G', 'T', 'R', 'J', 'D', 'S', 'Q'], '8': ['P', 'F', 'V'], '9': ['D', 'R', 'S', 'T', 'J']}\n"
     ]
    }
   ],
   "source": [
    "stacks={s:[] for s in data[8] if s!=' '}\n",
    "\n",
    "for i in range(8):\n",
    "    for j in range(1,len(stacks)+1):\n",
    "        try:\n",
    "            if data[7-i][j*4-3]!=' ':\n",
    "                stacks[str(j)].append(data[7-i][j*4-3])\n",
    "        except:\n",
    "            break\n",
    "print(stacks)\n"
   ]
  },
  {
   "cell_type": "code",
   "execution_count": 46,
   "metadata": {},
   "outputs": [
    {
     "name": "stdout",
     "output_type": "stream",
     "text": [
      "WCZTHTMPS\n"
     ]
    }
   ],
   "source": [
    "import re\n",
    "\n",
    "for s in data[10:]:\n",
    "    instruction=re.findall(r'\\d+', s)\n",
    "    for i in range(int(instruction[0])):\n",
    "        stacks[instruction[2]].append(stacks[instruction[1]].pop())\n",
    "\n",
    "solution=''\n",
    "\n",
    "for stack in stacks.keys():\n",
    "    solution+=stacks[stack][-1]\n",
    "\n",
    "print(solution)"
   ]
  },
  {
   "cell_type": "code",
   "execution_count": null,
   "metadata": {},
   "outputs": [],
   "source": [
    "## WCZTHTMPS was the right answer!"
   ]
  },
  {
   "cell_type": "code",
   "execution_count": 56,
   "metadata": {},
   "outputs": [
    {
     "name": "stdout",
     "output_type": "stream",
     "text": [
      "BLSGJSDTS\n"
     ]
    }
   ],
   "source": [
    "stacks={s:[] for s in data[8] if s!=' '}\n",
    "\n",
    "for i in range(8):\n",
    "    for j in range(1,len(stacks)+1):\n",
    "        try:\n",
    "            if data[7-i][j*4-3]!=' ':\n",
    "                stacks[str(j)].append(data[7-i][j*4-3])\n",
    "        except:\n",
    "            break\n",
    "\n",
    "for s in data[10:]:\n",
    "    instruction=re.findall(r'\\d+', s)\n",
    "    moved=int(instruction[0])\n",
    "    stacks[instruction[2]]=stacks[instruction[2]]+stacks[instruction[1]][-moved:]\n",
    "    stacks[instruction[1]]=stacks[instruction[1]][:-moved]\n",
    "        \n",
    "solution=''\n",
    "\n",
    "for stack in stacks.keys():\n",
    "    solution+=stacks[stack][-1]\n",
    "\n",
    "print(solution)"
   ]
  },
  {
   "cell_type": "code",
   "execution_count": null,
   "metadata": {},
   "outputs": [],
   "source": [
    "# BLSGJSDTS was the right answer!"
   ]
  }
 ],
 "metadata": {
  "interpreter": {
   "hash": "698409b7348d6fb27fe243303516f8163e0f716df744a1d8d0be11df1e6b32f7"
  },
  "kernelspec": {
   "display_name": "Python 3.10.6 64-bit",
   "language": "python",
   "name": "python3"
  },
  "language_info": {
   "codemirror_mode": {
    "name": "ipython",
    "version": 3
   },
   "file_extension": ".py",
   "mimetype": "text/x-python",
   "name": "python",
   "nbconvert_exporter": "python",
   "pygments_lexer": "ipython3",
   "version": "3.10.6"
  },
  "orig_nbformat": 4
 },
 "nbformat": 4,
 "nbformat_minor": 2
}
