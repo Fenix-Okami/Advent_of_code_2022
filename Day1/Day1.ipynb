{
 "cells": [
  {
   "cell_type": "code",
   "execution_count": 1,
   "metadata": {},
   "outputs": [],
   "source": [
    "with open('puzzleinput.txt') as file:\n",
    "    data=[line.rstrip() for line in file]\n",
    "\n",
    "    ## good time to learn about mapping: \n",
    "    ## second line can also be written as: \n",
    "    data2 = list(map(lambda x : x.strip(), file))\n",
    "    ## this is useful if you have to do additional processing during the read)"
   ]
  },
  {
   "cell_type": "code",
   "execution_count": 55,
   "metadata": {},
   "outputs": [
    {
     "name": "stdout",
     "output_type": "stream",
     "text": [
      "70296\n"
     ]
    }
   ],
   "source": [
    "summation=0\n",
    "current_max=0\n",
    "## good variable names, but if you're going for speeeeeeed it's fine to use single letter variables xD\n",
    "## #gottagofast\n",
    "for s in data:\n",
    "    if s =='':\n",
    "        # quicker way of writing this: \n",
    "        # summation = max(summation,current_max)\n",
    "        if summation>current_max:\n",
    "            current_max=summation \n",
    "        summation=0\n",
    "    else:\n",
    "        summation=summation+int(s)\n",
    "    \n",
    "print(current_max)\n"
   ]
  },
  {
   "cell_type": "code",
   "execution_count": 32,
   "metadata": {},
   "outputs": [],
   "source": [
    "#751546 was too high\n",
    "#53396 was too low\n",
    "\n",
    "##70296 was the answer!"
   ]
  },
  {
   "cell_type": "code",
   "execution_count": 56,
   "metadata": {},
   "outputs": [
    {
     "name": "stdout",
     "output_type": "stream",
     "text": [
      "205381\n"
     ]
    }
   ],
   "source": [
    "elf=[]\n",
    "\n",
    "summation=0\n",
    "current_max=0\n",
    "for s in data:\n",
    "    if s =='':\n",
    "        elf.append(summation)\n",
    "        summation=0\n",
    "    else:\n",
    "        summation+=int(s)\n",
    "    \n",
    "# speed run version:\n",
    "# print(sum(sorted(elf)[-3:]))\n",
    "elf.sort(reverse=True)\n",
    "\n",
    "print(sum(elf[0:3]))"
   ]
  },
  {
   "cell_type": "code",
   "execution_count": null,
   "metadata": {},
   "outputs": [],
   "source": [
    "##205381 was the answer!"
   ]
  }
 ],
 "metadata": {
  "kernelspec": {
   "display_name": "Python 3.10.2 64-bit",
   "language": "python",
   "name": "python3"
  },
  "language_info": {
   "codemirror_mode": {
    "name": "ipython",
    "version": 3
   },
   "file_extension": ".py",
   "mimetype": "text/x-python",
   "name": "python",
   "nbconvert_exporter": "python",
   "pygments_lexer": "ipython3",
   "version": "3.10.2"
  },
  "orig_nbformat": 4,
  "vscode": {
   "interpreter": {
    "hash": "5312a05d4c1062e7e99dc4a1327331a73c17135ec320657c0e8e8843948bfa85"
   }
  }
 },
 "nbformat": 4,
 "nbformat_minor": 2
}
